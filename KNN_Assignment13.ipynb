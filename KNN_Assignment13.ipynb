{
  "nbformat": 4,
  "nbformat_minor": 0,
  "metadata": {
    "colab": {
      "provenance": [],
      "include_colab_link": true
    },
    "kernelspec": {
      "name": "python3",
      "display_name": "Python 3"
    },
    "language_info": {
      "name": "python"
    }
  },
  "cells": [
    {
      "cell_type": "markdown",
      "metadata": {
        "id": "view-in-github",
        "colab_type": "text"
      },
      "source": [
        "<a href=\"https://colab.research.google.com/github/karthikasi/Task-7/blob/main/KNN_Assignment13.ipynb\" target=\"_parent\"><img src=\"https://colab.research.google.com/assets/colab-badge.svg\" alt=\"Open In Colab\"/></a>"
      ]
    },
    {
      "cell_type": "code",
      "metadata": {
        "id": "JolSMtbOfmc9"
      },
      "source": [
        "#Social_Networks_Ads.csv"
      ],
      "execution_count": null,
      "outputs": []
    },
    {
      "cell_type": "markdown",
      "metadata": {
        "id": "h_3tQC1Kf0ut"
      },
      "source": [
        "**Importing the libraries**"
      ]
    },
    {
      "cell_type": "code",
      "metadata": {
        "id": "EObl2Z6IfyG4"
      },
      "source": [
        "import numpy as np \n",
        "import pandas as pd\n",
        "import matplotlib.pyplot as plt\n",
        "import seaborn as sns \n"
      ],
      "execution_count": 1,
      "outputs": []
    },
    {
      "cell_type": "code",
      "metadata": {
        "id": "ULahHzTPfyJW"
      },
      "source": [],
      "execution_count": null,
      "outputs": []
    },
    {
      "cell_type": "markdown",
      "metadata": {
        "id": "yxzr0NOWf73l"
      },
      "source": [
        "**Importing the dataset**"
      ]
    },
    {
      "cell_type": "code",
      "metadata": {
        "id": "nN9xC2r6fyMZ",
        "colab": {
          "base_uri": "https://localhost:8080/",
          "height": 206
        },
        "outputId": "00e9dee7-aa2f-44eb-f70d-c079bdd60729"
      },
      "source": [
        "df=pd.read_csv(\"Social_Network_Ads.csv\")\n",
        "df.head()"
      ],
      "execution_count": 2,
      "outputs": [
        {
          "output_type": "execute_result",
          "data": {
            "text/plain": [
              "    User ID  Gender  Age  EstimatedSalary  Purchased\n",
              "0  15624510    Male   19            19000          0\n",
              "1  15810944    Male   35            20000          0\n",
              "2  15668575  Female   26            43000          0\n",
              "3  15603246  Female   27            57000          0\n",
              "4  15804002    Male   19            76000          0"
            ],
            "text/html": [
              "\n",
              "  <div id=\"df-169fd883-5465-43e9-b405-eb6bb85427ba\">\n",
              "    <div class=\"colab-df-container\">\n",
              "      <div>\n",
              "<style scoped>\n",
              "    .dataframe tbody tr th:only-of-type {\n",
              "        vertical-align: middle;\n",
              "    }\n",
              "\n",
              "    .dataframe tbody tr th {\n",
              "        vertical-align: top;\n",
              "    }\n",
              "\n",
              "    .dataframe thead th {\n",
              "        text-align: right;\n",
              "    }\n",
              "</style>\n",
              "<table border=\"1\" class=\"dataframe\">\n",
              "  <thead>\n",
              "    <tr style=\"text-align: right;\">\n",
              "      <th></th>\n",
              "      <th>User ID</th>\n",
              "      <th>Gender</th>\n",
              "      <th>Age</th>\n",
              "      <th>EstimatedSalary</th>\n",
              "      <th>Purchased</th>\n",
              "    </tr>\n",
              "  </thead>\n",
              "  <tbody>\n",
              "    <tr>\n",
              "      <th>0</th>\n",
              "      <td>15624510</td>\n",
              "      <td>Male</td>\n",
              "      <td>19</td>\n",
              "      <td>19000</td>\n",
              "      <td>0</td>\n",
              "    </tr>\n",
              "    <tr>\n",
              "      <th>1</th>\n",
              "      <td>15810944</td>\n",
              "      <td>Male</td>\n",
              "      <td>35</td>\n",
              "      <td>20000</td>\n",
              "      <td>0</td>\n",
              "    </tr>\n",
              "    <tr>\n",
              "      <th>2</th>\n",
              "      <td>15668575</td>\n",
              "      <td>Female</td>\n",
              "      <td>26</td>\n",
              "      <td>43000</td>\n",
              "      <td>0</td>\n",
              "    </tr>\n",
              "    <tr>\n",
              "      <th>3</th>\n",
              "      <td>15603246</td>\n",
              "      <td>Female</td>\n",
              "      <td>27</td>\n",
              "      <td>57000</td>\n",
              "      <td>0</td>\n",
              "    </tr>\n",
              "    <tr>\n",
              "      <th>4</th>\n",
              "      <td>15804002</td>\n",
              "      <td>Male</td>\n",
              "      <td>19</td>\n",
              "      <td>76000</td>\n",
              "      <td>0</td>\n",
              "    </tr>\n",
              "  </tbody>\n",
              "</table>\n",
              "</div>\n",
              "      <button class=\"colab-df-convert\" onclick=\"convertToInteractive('df-169fd883-5465-43e9-b405-eb6bb85427ba')\"\n",
              "              title=\"Convert this dataframe to an interactive table.\"\n",
              "              style=\"display:none;\">\n",
              "        \n",
              "  <svg xmlns=\"http://www.w3.org/2000/svg\" height=\"24px\"viewBox=\"0 0 24 24\"\n",
              "       width=\"24px\">\n",
              "    <path d=\"M0 0h24v24H0V0z\" fill=\"none\"/>\n",
              "    <path d=\"M18.56 5.44l.94 2.06.94-2.06 2.06-.94-2.06-.94-.94-2.06-.94 2.06-2.06.94zm-11 1L8.5 8.5l.94-2.06 2.06-.94-2.06-.94L8.5 2.5l-.94 2.06-2.06.94zm10 10l.94 2.06.94-2.06 2.06-.94-2.06-.94-.94-2.06-.94 2.06-2.06.94z\"/><path d=\"M17.41 7.96l-1.37-1.37c-.4-.4-.92-.59-1.43-.59-.52 0-1.04.2-1.43.59L10.3 9.45l-7.72 7.72c-.78.78-.78 2.05 0 2.83L4 21.41c.39.39.9.59 1.41.59.51 0 1.02-.2 1.41-.59l7.78-7.78 2.81-2.81c.8-.78.8-2.07 0-2.86zM5.41 20L4 18.59l7.72-7.72 1.47 1.35L5.41 20z\"/>\n",
              "  </svg>\n",
              "      </button>\n",
              "      \n",
              "  <style>\n",
              "    .colab-df-container {\n",
              "      display:flex;\n",
              "      flex-wrap:wrap;\n",
              "      gap: 12px;\n",
              "    }\n",
              "\n",
              "    .colab-df-convert {\n",
              "      background-color: #E8F0FE;\n",
              "      border: none;\n",
              "      border-radius: 50%;\n",
              "      cursor: pointer;\n",
              "      display: none;\n",
              "      fill: #1967D2;\n",
              "      height: 32px;\n",
              "      padding: 0 0 0 0;\n",
              "      width: 32px;\n",
              "    }\n",
              "\n",
              "    .colab-df-convert:hover {\n",
              "      background-color: #E2EBFA;\n",
              "      box-shadow: 0px 1px 2px rgba(60, 64, 67, 0.3), 0px 1px 3px 1px rgba(60, 64, 67, 0.15);\n",
              "      fill: #174EA6;\n",
              "    }\n",
              "\n",
              "    [theme=dark] .colab-df-convert {\n",
              "      background-color: #3B4455;\n",
              "      fill: #D2E3FC;\n",
              "    }\n",
              "\n",
              "    [theme=dark] .colab-df-convert:hover {\n",
              "      background-color: #434B5C;\n",
              "      box-shadow: 0px 1px 3px 1px rgba(0, 0, 0, 0.15);\n",
              "      filter: drop-shadow(0px 1px 2px rgba(0, 0, 0, 0.3));\n",
              "      fill: #FFFFFF;\n",
              "    }\n",
              "  </style>\n",
              "\n",
              "      <script>\n",
              "        const buttonEl =\n",
              "          document.querySelector('#df-169fd883-5465-43e9-b405-eb6bb85427ba button.colab-df-convert');\n",
              "        buttonEl.style.display =\n",
              "          google.colab.kernel.accessAllowed ? 'block' : 'none';\n",
              "\n",
              "        async function convertToInteractive(key) {\n",
              "          const element = document.querySelector('#df-169fd883-5465-43e9-b405-eb6bb85427ba');\n",
              "          const dataTable =\n",
              "            await google.colab.kernel.invokeFunction('convertToInteractive',\n",
              "                                                     [key], {});\n",
              "          if (!dataTable) return;\n",
              "\n",
              "          const docLinkHtml = 'Like what you see? Visit the ' +\n",
              "            '<a target=\"_blank\" href=https://colab.research.google.com/notebooks/data_table.ipynb>data table notebook</a>'\n",
              "            + ' to learn more about interactive tables.';\n",
              "          element.innerHTML = '';\n",
              "          dataTable['output_type'] = 'display_data';\n",
              "          await google.colab.output.renderOutput(dataTable, element);\n",
              "          const docLink = document.createElement('div');\n",
              "          docLink.innerHTML = docLinkHtml;\n",
              "          element.appendChild(docLink);\n",
              "        }\n",
              "      </script>\n",
              "    </div>\n",
              "  </div>\n",
              "  "
            ]
          },
          "metadata": {},
          "execution_count": 2
        }
      ]
    },
    {
      "cell_type": "code",
      "metadata": {
        "id": "Z9gpSZOVfyPX",
        "colab": {
          "base_uri": "https://localhost:8080/",
          "height": 206
        },
        "outputId": "81ba6f4b-3520-4f32-d6f0-04dae3fca329"
      },
      "source": [
        "df[\"Gender\"]= df.Gender.map({\"Male\":0,\"Female\":1})\n",
        "df.head()"
      ],
      "execution_count": 4,
      "outputs": [
        {
          "output_type": "execute_result",
          "data": {
            "text/plain": [
              "    User ID  Gender  Age  EstimatedSalary  Purchased\n",
              "0  15624510       0   19            19000          0\n",
              "1  15810944       0   35            20000          0\n",
              "2  15668575       1   26            43000          0\n",
              "3  15603246       1   27            57000          0\n",
              "4  15804002       0   19            76000          0"
            ],
            "text/html": [
              "\n",
              "  <div id=\"df-c87d7ed4-e678-44e4-885a-9bc700015dc3\">\n",
              "    <div class=\"colab-df-container\">\n",
              "      <div>\n",
              "<style scoped>\n",
              "    .dataframe tbody tr th:only-of-type {\n",
              "        vertical-align: middle;\n",
              "    }\n",
              "\n",
              "    .dataframe tbody tr th {\n",
              "        vertical-align: top;\n",
              "    }\n",
              "\n",
              "    .dataframe thead th {\n",
              "        text-align: right;\n",
              "    }\n",
              "</style>\n",
              "<table border=\"1\" class=\"dataframe\">\n",
              "  <thead>\n",
              "    <tr style=\"text-align: right;\">\n",
              "      <th></th>\n",
              "      <th>User ID</th>\n",
              "      <th>Gender</th>\n",
              "      <th>Age</th>\n",
              "      <th>EstimatedSalary</th>\n",
              "      <th>Purchased</th>\n",
              "    </tr>\n",
              "  </thead>\n",
              "  <tbody>\n",
              "    <tr>\n",
              "      <th>0</th>\n",
              "      <td>15624510</td>\n",
              "      <td>0</td>\n",
              "      <td>19</td>\n",
              "      <td>19000</td>\n",
              "      <td>0</td>\n",
              "    </tr>\n",
              "    <tr>\n",
              "      <th>1</th>\n",
              "      <td>15810944</td>\n",
              "      <td>0</td>\n",
              "      <td>35</td>\n",
              "      <td>20000</td>\n",
              "      <td>0</td>\n",
              "    </tr>\n",
              "    <tr>\n",
              "      <th>2</th>\n",
              "      <td>15668575</td>\n",
              "      <td>1</td>\n",
              "      <td>26</td>\n",
              "      <td>43000</td>\n",
              "      <td>0</td>\n",
              "    </tr>\n",
              "    <tr>\n",
              "      <th>3</th>\n",
              "      <td>15603246</td>\n",
              "      <td>1</td>\n",
              "      <td>27</td>\n",
              "      <td>57000</td>\n",
              "      <td>0</td>\n",
              "    </tr>\n",
              "    <tr>\n",
              "      <th>4</th>\n",
              "      <td>15804002</td>\n",
              "      <td>0</td>\n",
              "      <td>19</td>\n",
              "      <td>76000</td>\n",
              "      <td>0</td>\n",
              "    </tr>\n",
              "  </tbody>\n",
              "</table>\n",
              "</div>\n",
              "      <button class=\"colab-df-convert\" onclick=\"convertToInteractive('df-c87d7ed4-e678-44e4-885a-9bc700015dc3')\"\n",
              "              title=\"Convert this dataframe to an interactive table.\"\n",
              "              style=\"display:none;\">\n",
              "        \n",
              "  <svg xmlns=\"http://www.w3.org/2000/svg\" height=\"24px\"viewBox=\"0 0 24 24\"\n",
              "       width=\"24px\">\n",
              "    <path d=\"M0 0h24v24H0V0z\" fill=\"none\"/>\n",
              "    <path d=\"M18.56 5.44l.94 2.06.94-2.06 2.06-.94-2.06-.94-.94-2.06-.94 2.06-2.06.94zm-11 1L8.5 8.5l.94-2.06 2.06-.94-2.06-.94L8.5 2.5l-.94 2.06-2.06.94zm10 10l.94 2.06.94-2.06 2.06-.94-2.06-.94-.94-2.06-.94 2.06-2.06.94z\"/><path d=\"M17.41 7.96l-1.37-1.37c-.4-.4-.92-.59-1.43-.59-.52 0-1.04.2-1.43.59L10.3 9.45l-7.72 7.72c-.78.78-.78 2.05 0 2.83L4 21.41c.39.39.9.59 1.41.59.51 0 1.02-.2 1.41-.59l7.78-7.78 2.81-2.81c.8-.78.8-2.07 0-2.86zM5.41 20L4 18.59l7.72-7.72 1.47 1.35L5.41 20z\"/>\n",
              "  </svg>\n",
              "      </button>\n",
              "      \n",
              "  <style>\n",
              "    .colab-df-container {\n",
              "      display:flex;\n",
              "      flex-wrap:wrap;\n",
              "      gap: 12px;\n",
              "    }\n",
              "\n",
              "    .colab-df-convert {\n",
              "      background-color: #E8F0FE;\n",
              "      border: none;\n",
              "      border-radius: 50%;\n",
              "      cursor: pointer;\n",
              "      display: none;\n",
              "      fill: #1967D2;\n",
              "      height: 32px;\n",
              "      padding: 0 0 0 0;\n",
              "      width: 32px;\n",
              "    }\n",
              "\n",
              "    .colab-df-convert:hover {\n",
              "      background-color: #E2EBFA;\n",
              "      box-shadow: 0px 1px 2px rgba(60, 64, 67, 0.3), 0px 1px 3px 1px rgba(60, 64, 67, 0.15);\n",
              "      fill: #174EA6;\n",
              "    }\n",
              "\n",
              "    [theme=dark] .colab-df-convert {\n",
              "      background-color: #3B4455;\n",
              "      fill: #D2E3FC;\n",
              "    }\n",
              "\n",
              "    [theme=dark] .colab-df-convert:hover {\n",
              "      background-color: #434B5C;\n",
              "      box-shadow: 0px 1px 3px 1px rgba(0, 0, 0, 0.15);\n",
              "      filter: drop-shadow(0px 1px 2px rgba(0, 0, 0, 0.3));\n",
              "      fill: #FFFFFF;\n",
              "    }\n",
              "  </style>\n",
              "\n",
              "      <script>\n",
              "        const buttonEl =\n",
              "          document.querySelector('#df-c87d7ed4-e678-44e4-885a-9bc700015dc3 button.colab-df-convert');\n",
              "        buttonEl.style.display =\n",
              "          google.colab.kernel.accessAllowed ? 'block' : 'none';\n",
              "\n",
              "        async function convertToInteractive(key) {\n",
              "          const element = document.querySelector('#df-c87d7ed4-e678-44e4-885a-9bc700015dc3');\n",
              "          const dataTable =\n",
              "            await google.colab.kernel.invokeFunction('convertToInteractive',\n",
              "                                                     [key], {});\n",
              "          if (!dataTable) return;\n",
              "\n",
              "          const docLinkHtml = 'Like what you see? Visit the ' +\n",
              "            '<a target=\"_blank\" href=https://colab.research.google.com/notebooks/data_table.ipynb>data table notebook</a>'\n",
              "            + ' to learn more about interactive tables.';\n",
              "          element.innerHTML = '';\n",
              "          dataTable['output_type'] = 'display_data';\n",
              "          await google.colab.output.renderOutput(dataTable, element);\n",
              "          const docLink = document.createElement('div');\n",
              "          docLink.innerHTML = docLinkHtml;\n",
              "          element.appendChild(docLink);\n",
              "        }\n",
              "      </script>\n",
              "    </div>\n",
              "  </div>\n",
              "  "
            ]
          },
          "metadata": {},
          "execution_count": 4
        }
      ]
    },
    {
      "cell_type": "code",
      "source": [
        "df.boxplot()"
      ],
      "metadata": {
        "colab": {
          "base_uri": "https://localhost:8080/",
          "height": 293
        },
        "id": "MZt5Wg5xIikr",
        "outputId": "46e14f47-59d6-4c3d-b900-742d2410a967"
      },
      "execution_count": 5,
      "outputs": [
        {
          "output_type": "execute_result",
          "data": {
            "text/plain": [
              "<matplotlib.axes._subplots.AxesSubplot at 0x7fca7e685b50>"
            ]
          },
          "metadata": {},
          "execution_count": 5
        },
        {
          "output_type": "display_data",
          "data": {
            "text/plain": [
              "<Figure size 432x288 with 1 Axes>"
            ],
            "image/png": "[encoded data removed]"
          },
          "metadata": {
            "needs_background": "light"
          }
        }
      ]
    },
    {
      "cell_type": "code",
      "source": [
        "sns.distplot(df[\"EstimatedSalary\"])"
      ],
      "metadata": {
        "colab": {
          "base_uri": "https://localhost:8080/",
          "height": 362
        },
        "id": "fbTxvth7Iurv",
        "outputId": "b7d8c411-1b00-4607-ab74-c13c4580f78f"
      },
      "execution_count": 7,
      "outputs": [
        {
          "output_type": "stream",
          "name": "stderr",
          "text": [
            "/usr/local/lib/python3.7/dist-packages/seaborn/distributions.py:2619: FutureWarning: `distplot` is a deprecated function and will be removed in a future version. Please adapt your code to use either `displot` (a figure-level function with similar flexibility) or `histplot` (an axes-level function for histograms).\n",
            "  warnings.warn(msg, FutureWarning)\n"
          ]
        },
        {
          "output_type": "execute_result",
          "data": {
            "text/plain": [
              "<matplotlib.axes._subplots.AxesSubplot at 0x7fca7dcf3610>"
            ]
          },
          "metadata": {},
          "execution_count": 7
        },
        {
          "output_type": "display_data",
          "data": {
            "text/plain": [
              "<Figure size 432x288 with 1 Axes>"
            ],
            "image/png": "[encoded data removed]"
          },
          "metadata": {
            "needs_background": "light"
          }
        }
      ]
    },
    {
      "cell_type": "markdown",
      "metadata": {
        "id": "_lrDXgjIgGJ3"
      },
      "source": [
        "**Splitting the dataset into the Training set and Test set**"
      ]
    },
    {
      "cell_type": "code",
      "metadata": {
        "id": "z2QWVTZUfyUB"
      },
      "source": [
        "X=df[[\"Gender\",\"Age\",\"EstimatedSalary\"]].values\n",
        "y=df[\"Purchased\"].values\n"
      ],
      "execution_count": 8,
      "outputs": []
    },
    {
      "cell_type": "code",
      "source": [
        "from sklearn.model_selection import train_test_split\n",
        "X_train,X_test,y_train,y_test=train_test_split(X,y,test_size=0.2,random_state=3)\n"
      ],
      "metadata": {
        "id": "jnyCuMzPJoOF"
      },
      "execution_count": 9,
      "outputs": []
    },
    {
      "cell_type": "markdown",
      "metadata": {
        "id": "XmzkAVfggNrD"
      },
      "source": [
        "**Feature Scaling**"
      ]
    },
    {
      "cell_type": "code",
      "metadata": {
        "id": "UZUJ4Xn4fyW6"
      },
      "source": [
        "from sklearn.preprocessing import StandardScaler\n",
        "scaler=StandardScaler()\n",
        "scaler.fit(X_train,y_train)\n",
        "X_train_scaled=scaler.fit_transform(X_train)\n",
        "X_test_scaled=scaler.transform(X_test)"
      ],
      "execution_count": 10,
      "outputs": []
    },
    {
      "cell_type": "code",
      "source": [
        "scaler.var_"
      ],
      "metadata": {
        "colab": {
          "base_uri": "https://localhost:8080/"
        },
        "id": "AsYsiorhLu9Q",
        "outputId": "491ace2c-eff6-4c23-c9df-38c0717ac32d"
      },
      "execution_count": 14,
      "outputs": [
        {
          "output_type": "execute_result",
          "data": {
            "text/plain": [
              "array([2.48593750e-01, 1.14398428e+02, 1.14258335e+09])"
            ]
          },
          "metadata": {},
          "execution_count": 14
        }
      ]
    },
    {
      "cell_type": "code",
      "source": [
        "X_train_scaled"
      ],
      "metadata": {
        "colab": {
          "base_uri": "https://localhost:8080/"
        },
        "id": "vSw8_jjELXzt",
        "outputId": "1323165d-611b-4cd6-d2f3-8d1aab11db9b"
      },
      "execution_count": 12,
      "outputs": [
        {
          "output_type": "execute_result",
          "data": {
            "text/plain": [
              "array([[ 0.92761259,  1.4167466 ,  2.15546758],\n",
              "       [-1.07803625, -0.26616955,  0.05500764],\n",
              "       [-1.07803625,  0.38829784,  2.33297124],\n",
              "       [ 0.92761259,  0.66878386, -1.4241895 ],\n",
              "       [ 0.92761259,  0.85577455, -0.56625516],\n",
              "       [-1.07803625,  0.38829784,  0.29167919],\n",
              "       [-1.07803625,  0.10781182,  1.0608617 ],\n",
              "       [-1.07803625,  0.01431647, -0.32958361],\n",
              "       [ 0.92761259,  0.2948025 , -0.21124784],\n",
              "       [ 0.92761259, -0.17267421, -0.5958391 ],\n",
              "       [ 0.92761259, -0.54665557,  1.38628507],\n",
              "       [ 0.92761259, -1.29461831, -1.12835007],\n",
              "       [ 0.92761259, -1.10762762,  0.05500764],\n",
              "       [ 0.92761259,  0.85577455,  2.18505153],\n",
              "       [-1.07803625,  0.94926989, -1.09876613],\n",
              "       [ 0.92761259,  0.94926989,  1.80046027],\n",
              "       [-1.07803625, -0.73364626,  0.29167919],\n",
              "       [ 0.92761259,  1.97771865,  0.17334342],\n",
              "       [ 0.92761259,  0.76227921, -0.86209458],\n",
              "       [-1.07803625, -1.01413228, -0.35916756],\n",
              "       [-1.07803625, -0.35966489,  1.23836536],\n",
              "       [-1.07803625, -1.85559036,  0.35084707],\n",
              "       [ 0.92761259, -1.01413228, -0.47750333],\n",
              "       [-1.07803625, -1.20112297,  0.26209524],\n",
              "       [ 0.92761259,  1.8842233 , -1.39460555],\n",
              "       [ 0.92761259, -0.54665557,  1.91879604],\n",
              "       [ 0.92761259, -1.10762762, -1.57210921],\n",
              "       [ 0.92761259,  0.38829784,  1.12002959],\n",
              "       [-1.07803625, -0.64015092,  0.11417553],\n",
              "       [ 0.92761259,  0.76227921, -1.4241895 ],\n",
              "       [-1.07803625,  0.20130716, -0.68459093],\n",
              "       [-1.07803625,  2.07121399,  0.38043101],\n",
              "       [-1.07803625, -0.92063694, -0.32958361],\n",
              "       [ 0.92761259, -1.66859967, -1.0100143 ],\n",
              "       [-1.07803625, -0.35966489, -0.8029267 ],\n",
              "       [-1.07803625,  0.85577455, -1.48335738],\n",
              "       [ 0.92761259,  0.2948025 ,  0.29167919],\n",
              "       [ 0.92761259, -1.38811365,  0.35084707],\n",
              "       [ 0.92761259,  0.38829784,  0.29167919],\n",
              "       [ 0.92761259,  0.76227921,  0.35084707],\n",
              "       [-1.07803625,  0.20130716, -0.3887515 ],\n",
              "       [-1.07803625, -1.29461831, -0.35916756],\n",
              "       [ 0.92761259, -0.07917887, -0.24083178],\n",
              "       [-1.07803625, -1.10762762, -1.60169315],\n",
              "       [ 0.92761259,  0.94926989, -1.18751796],\n",
              "       [-1.07803625, -1.20112297,  0.29167919],\n",
              "       [ 0.92761259,  0.2948025 ,  0.0254237 ],\n",
              "       [ 0.92761259, -0.45316023,  2.33297124],\n",
              "       [ 0.92761259,  1.4167466 ,  0.35084707],\n",
              "       [-1.07803625, -0.07917887, -0.53667121],\n",
              "       [-1.07803625,  1.04276523,  0.11417553],\n",
              "       [ 0.92761259,  1.04276523, -0.92126247],\n",
              "       [ 0.92761259, -1.48160899, -0.21124784],\n",
              "       [-1.07803625, -1.76209501, -0.00416024],\n",
              "       [ 0.92761259, -1.48160899, -1.27626978],\n",
              "       [ 0.92761259,  0.01431647,  1.23836536],\n",
              "       [ 0.92761259,  1.8842233 ,  0.91294199],\n",
              "       [-1.07803625, -1.48160899, -1.54252527],\n",
              "       [ 0.92761259,  0.10781182, -0.27041573],\n",
              "       [-1.07803625, -0.26616955,  1.12002959],\n",
              "       [-1.07803625, -1.76209501,  0.17334342],\n",
              "       [-1.07803625, -0.07917887,  0.05500764],\n",
              "       [ 0.92761259,  0.2948025 ,  0.05500764],\n",
              "       [ 0.92761259, -0.26616955,  0.05500764],\n",
              "       [-1.07803625, -0.07917887, -0.50708727],\n",
              "       [ 0.92761259,  1.32325125,  0.58751861],\n",
              "       [ 0.92761259,  0.01431647,  0.29167919],\n",
              "       [-1.07803625,  0.20130716, -0.32958361],\n",
              "       [-1.07803625,  1.69723262,  1.85962816],\n",
              "       [-1.07803625, -0.07917887,  0.14375947],\n",
              "       [ 0.92761259, -1.01413228,  0.41001496],\n",
              "       [ 0.92761259,  1.69723262,  1.00169381],\n",
              "       [ 0.92761259, -0.26616955, -0.29999967],\n",
              "       [ 0.92761259, -0.07917887, -0.3887515 ],\n",
              "       [ 0.92761259,  0.2948025 ,  0.05500764],\n",
              "       [ 0.92761259, -1.48160899, -0.44791938],\n",
              "       [ 0.92761259,  1.13626057, -1.48335738],\n",
              "       [ 0.92761259,  0.20130716,  0.05500764],\n",
              "       [ 0.92761259, -1.66859967,  0.35084707],\n",
              "       [ 0.92761259, -1.01413228, -0.3887515 ],\n",
              "       [ 0.92761259,  1.51024194, -1.30585373],\n",
              "       [ 0.92761259,  0.20130716,  0.14375947],\n",
              "       [ 0.92761259, -0.92063694,  0.49876679],\n",
              "       [-1.07803625,  0.38829784, -0.1816639 ],\n",
              "       [ 0.92761259,  1.97771865,  0.38043101],\n",
              "       [-1.07803625,  0.76227921, -1.24668584],\n",
              "       [-1.07803625,  0.2948025 , -0.74375881],\n",
              "       [-1.07803625,  0.85577455, -1.06918218],\n",
              "       [-1.07803625, -0.73364626, -1.6312771 ],\n",
              "       [ 0.92761259,  1.97771865,  0.52835073],\n",
              "       [-1.07803625, -0.26616955, -0.95084641],\n",
              "       [-1.07803625, -0.26616955, -0.27041573],\n",
              "       [-1.07803625, -1.76209501,  0.4395989 ],\n",
              "       [ 0.92761259,  0.38829784, -0.50708727],\n",
              "       [-1.07803625,  2.07121399, -0.83251064],\n",
              "       [ 0.92761259,  0.48179318,  1.85962816],\n",
              "       [-1.07803625,  0.38829784,  0.08459159],\n",
              "       [ 0.92761259,  1.22975591,  2.24421941],\n",
              "       [-1.07803625, -0.8271416 ,  2.3033873 ],\n",
              "       [ 0.92761259,  0.85577455,  1.09044564],\n",
              "       [-1.07803625, -1.38811365, -1.48335738],\n",
              "       [-1.07803625,  1.79072796, -0.29999967],\n",
              "       [-1.07803625, -0.73364626,  0.55793467],\n",
              "       [ 0.92761259,  0.94926989,  0.76502227],\n",
              "       [-1.07803625, -0.17267421,  1.41586901],\n",
              "       [ 0.92761259,  0.66878386, -0.74375881],\n",
              "       [ 0.92761259,  0.85577455, -0.62542304],\n",
              "       [-1.07803625, -0.17267421,  2.18505153],\n",
              "       [-1.07803625, -1.10762762,  0.46918284],\n",
              "       [-1.07803625, -1.20112297, -1.4241895 ],\n",
              "       [-1.07803625, -0.92063694,  0.26209524],\n",
              "       [-1.07803625,  0.94926989,  0.11417553],\n",
              "       [ 0.92761259,  1.13626057, -1.0100143 ],\n",
              "       [ 0.92761259, -0.26616955,  0.20292736],\n",
              "       [ 0.92761259,  2.07121399, -0.71417487],\n",
              "       [-1.07803625, -1.57510433,  0.52835073],\n",
              "       [-1.07803625, -0.64015092, -1.54252527],\n",
              "       [ 0.92761259, -0.07917887, -1.09876613],\n",
              "       [-1.07803625, -1.66859967,  0.11417553],\n",
              "       [ 0.92761259, -0.07917887,  0.29167919],\n",
              "       [-1.07803625, -0.26616955, -1.4241895 ],\n",
              "       [-1.07803625,  0.66878386,  0.26209524],\n",
              "       [ 0.92761259, -0.8271416 ,  0.38043101],\n",
              "       [ 0.92761259,  1.79072796, -1.09876613],\n",
              "       [-1.07803625,  0.20130716,  0.0254237 ],\n",
              "       [ 0.92761259,  1.79072796,  1.53420479],\n",
              "       [-1.07803625, -0.73364626,  0.49876679],\n",
              "       [ 0.92761259, -0.45316023, -0.86209458],\n",
              "       [-1.07803625, -0.26616955, -0.5958391 ],\n",
              "       [ 0.92761259,  0.48179318,  1.23836536],\n",
              "       [-1.07803625, -1.01413228,  0.58751861],\n",
              "       [ 0.92761259, -1.66859967, -1.39460555],\n",
              "       [ 0.92761259,  1.04276523, -1.0100143 ],\n",
              "       [-1.07803625,  0.76227921,  1.38628507],\n",
              "       [-1.07803625, -1.76209501, -1.33543767],\n",
              "       [ 0.92761259,  0.94926989, -1.03959824],\n",
              "       [ 0.92761259,  0.76227921, -1.12835007],\n",
              "       [ 0.92761259, -0.07917887,  0.0254237 ],\n",
              "       [-1.07803625,  0.01431647, -0.56625516],\n",
              "       [-1.07803625, -1.66859967,  0.46918284],\n",
              "       [ 0.92761259, -0.92063694,  0.4395989 ],\n",
              "       [-1.07803625, -1.10762762,  0.29167919],\n",
              "       [-1.07803625, -0.26616955, -0.35916756],\n",
              "       [-1.07803625, -0.17267421,  0.8537741 ],\n",
              "       [ 0.92761259,  0.01431647, -0.44791938],\n",
              "       [ 0.92761259, -0.45316023, -0.03374418],\n",
              "       [ 0.92761259, -1.38811365, -1.24668584],\n",
              "       [ 0.92761259,  1.13626057, -0.77334276],\n",
              "       [ 0.92761259,  1.32325125,  2.00754787],\n",
              "       [ 0.92761259, -0.26616955, -1.33543767],\n",
              "       [ 0.92761259,  0.85577455, -0.68459093],\n",
              "       [ 0.92761259, -0.07917887,  0.29167919],\n",
              "       [ 0.92761259, -0.45316023, -0.56625516],\n",
              "       [-1.07803625, -0.54665557,  1.4750369 ],\n",
              "       [-1.07803625, -0.07917887,  2.18505153],\n",
              "       [ 0.92761259, -0.73364626,  0.26209524],\n",
              "       [ 0.92761259,  0.38829784,  0.58751861],\n",
              "       [-1.07803625, -0.54665557, -1.54252527],\n",
              "       [-1.07803625,  0.20130716,  0.14375947],\n",
              "       [ 0.92761259, -0.64015092, -1.06918218],\n",
              "       [-1.07803625,  0.66878386, -1.30585373],\n",
              "       [-1.07803625,  1.04276523,  0.46918284],\n",
              "       [ 0.92761259, -1.10762762, -0.53667121],\n",
              "       [-1.07803625, -0.26616955, -0.44791938],\n",
              "       [ 0.92761259,  1.32325125,  1.29753324],\n",
              "       [-1.07803625, -1.48160899,  0.32126313],\n",
              "       [ 0.92761259, -1.85559036, -0.77334276],\n",
              "       [ 0.92761259, -0.64015092,  1.41586901],\n",
              "       [ 0.92761259,  0.2948025 , -0.56625516],\n",
              "       [-1.07803625, -1.20112297,  0.58751861],\n",
              "       [-1.07803625, -1.10762762,  0.32126313],\n",
              "       [-1.07803625,  1.60373728, -0.92126247],\n",
              "       [-1.07803625,  0.94926989, -1.09876613],\n",
              "       [ 0.92761259, -0.26616955, -0.77334276],\n",
              "       [ 0.92761259, -0.26616955, -0.3887515 ],\n",
              "       [ 0.92761259, -1.01413228, -1.15793401],\n",
              "       [-1.07803625, -1.29461831, -0.44791938],\n",
              "       [ 0.92761259, -0.64015092,  0.0254237 ],\n",
              "       [-1.07803625,  0.20130716, -0.27041573],\n",
              "       [ 0.92761259, -1.29461831,  0.55793467],\n",
              "       [-1.07803625, -1.10762762, -1.18751796],\n",
              "       [ 0.92761259,  0.38829784,  0.14375947],\n",
              "       [-1.07803625,  0.10781182,  1.8892121 ],\n",
              "       [-1.07803625,  1.04276523,  0.55793467],\n",
              "       [-1.07803625, -0.07917887, -0.00416024],\n",
              "       [-1.07803625, -0.26616955, -0.92126247],\n",
              "       [ 0.92761259, -1.29461831, -1.27626978],\n",
              "       [-1.07803625,  0.38829784, -0.47750333],\n",
              "       [ 0.92761259,  0.01431647, -0.15207996],\n",
              "       [ 0.92761259,  0.94926989,  2.00754787],\n",
              "       [ 0.92761259,  0.10781182,  0.26209524],\n",
              "       [-1.07803625,  1.97771865,  1.77087633],\n",
              "       [ 0.92761259,  0.01431647, -0.5958391 ],\n",
              "       [ 0.92761259, -1.57510433, -0.06332813],\n",
              "       [-1.07803625, -1.01413228, -1.48335738],\n",
              "       [ 0.92761259,  1.22975591,  1.8892121 ],\n",
              "       [-1.07803625,  1.69723262, -0.29999967],\n",
              "       [-1.07803625, -1.01413228,  0.52835073],\n",
              "       [ 0.92761259,  0.94926989, -1.2171019 ],\n",
              "       [ 0.92761259,  0.85577455,  1.2679493 ],\n",
              "       [ 0.92761259,  0.10781182,  0.08459159],\n",
              "       [-1.07803625,  0.94926989,  0.58751861],\n",
              "       [-1.07803625,  0.01431647,  0.0254237 ],\n",
              "       [-1.07803625, -1.20112297, -1.09876613],\n",
              "       [ 0.92761259,  1.32325125, -1.45377344],\n",
              "       [-1.07803625, -1.10762762, -1.6312771 ],\n",
              "       [ 0.92761259,  0.94926989,  1.8892121 ],\n",
              "       [ 0.92761259, -1.57510433, -1.60169315],\n",
              "       [-1.07803625, -1.38811365, -0.21124784],\n",
              "       [-1.07803625,  0.94926989, -0.86209458],\n",
              "       [ 0.92761259, -1.38811365, -0.12249601],\n",
              "       [-1.07803625,  0.10781182,  0.0254237 ],\n",
              "       [ 0.92761259,  2.07121399,  1.12002959],\n",
              "       [-1.07803625,  0.10781182,  1.53420479],\n",
              "       [ 0.92761259,  1.4167466 ,  1.00169381],\n",
              "       [-1.07803625,  0.20130716, -0.3887515 ],\n",
              "       [ 0.92761259, -0.8271416 ,  0.38043101],\n",
              "       [-1.07803625,  0.38829784, -0.15207996],\n",
              "       [ 0.92761259, -0.35966489, -0.8029267 ],\n",
              "       [-1.07803625, -0.26616955, -1.27626978],\n",
              "       [-1.07803625, -1.29461831, -1.39460555],\n",
              "       [ 0.92761259, -0.26616955,  0.0254237 ],\n",
              "       [ 0.92761259, -0.17267421,  1.65254056],\n",
              "       [ 0.92761259, -0.17267421,  0.14375947],\n",
              "       [-1.07803625,  1.79072796,  0.11417553],\n",
              "       [ 0.92761259, -0.92063694,  0.41001496],\n",
              "       [ 0.92761259,  1.8842233 , -0.95084641],\n",
              "       [-1.07803625, -1.85559036, -0.53667121],\n",
              "       [ 0.92761259,  0.20130716,  2.12588364],\n",
              "       [ 0.92761259,  1.97771865, -0.83251064],\n",
              "       [-1.07803625, -0.07917887,  0.11417553],\n",
              "       [-1.07803625,  0.10781182,  0.76502227],\n",
              "       [-1.07803625,  1.04276523, -0.15207996],\n",
              "       [-1.07803625,  0.85577455, -1.39460555],\n",
              "       [ 0.92761259, -0.26616955, -0.15207996],\n",
              "       [-1.07803625,  0.2948025 ,  0.05500764],\n",
              "       [ 0.92761259,  1.51024194,  1.12002959],\n",
              "       [ 0.92761259, -0.07917887,  0.67627044],\n",
              "       [ 0.92761259, -0.17267421, -0.21124784],\n",
              "       [ 0.92761259, -1.76209501, -1.45377344],\n",
              "       [ 0.92761259,  0.01431647, -0.5958391 ],\n",
              "       [-1.07803625,  0.01431647, -0.27041573],\n",
              "       [ 0.92761259,  0.10781182, -0.32958361],\n",
              "       [ 0.92761259, -0.73364626,  1.35670113],\n",
              "       [ 0.92761259, -0.54665557,  1.38628507],\n",
              "       [ 0.92761259,  0.10781182,  0.14375947],\n",
              "       [ 0.92761259,  1.8842233 , -0.68459093],\n",
              "       [ 0.92761259, -1.10762762,  1.41586901],\n",
              "       [-1.07803625,  0.20130716,  1.09044564],\n",
              "       [ 0.92761259, -0.45316023, -1.24668584],\n",
              "       [-1.07803625,  0.76227921, -0.32958361],\n",
              "       [ 0.92761259, -1.10762762, -0.8029267 ],\n",
              "       [ 0.92761259,  1.13626057,  0.52835073],\n",
              "       [-1.07803625, -0.17267421,  1.62295661],\n",
              "       [ 0.92761259, -0.07917887,  0.2325113 ],\n",
              "       [-1.07803625, -0.73364626,  1.91879604],\n",
              "       [ 0.92761259, -1.85559036, -0.06332813],\n",
              "       [-1.07803625,  2.07121399,  0.94252593],\n",
              "       [-1.07803625, -0.45316023, -0.8029267 ],\n",
              "       [ 0.92761259,  0.94926989,  1.44545296],\n",
              "       [-1.07803625,  1.51024194, -0.00416024],\n",
              "       [-1.07803625, -0.54665557,  0.88335804],\n",
              "       [-1.07803625,  1.8842233 ,  2.18505153],\n",
              "       [-1.07803625,  1.97771865,  2.15546758],\n",
              "       [ 0.92761259, -0.92063694, -0.98043036],\n",
              "       [-1.07803625,  0.76227921,  0.26209524],\n",
              "       [-1.07803625, -0.17267421, -0.53667121],\n",
              "       [-1.07803625, -0.26616955,  0.14375947],\n",
              "       [-1.07803625, -0.26616955, -1.48335738],\n",
              "       [-1.07803625, -0.07917887, -0.44791938],\n",
              "       [-1.07803625,  0.01431647,  0.0254237 ],\n",
              "       [ 0.92761259, -0.35966489,  0.05500764],\n",
              "       [ 0.92761259, -0.07917887,  2.24421941],\n",
              "       [-1.07803625,  2.07121399, -1.06918218],\n",
              "       [ 0.92761259, -0.45316023, -0.29999967],\n",
              "       [ 0.92761259, -1.85559036,  0.46918284],\n",
              "       [ 0.92761259,  1.79072796, -1.30585373],\n",
              "       [-1.07803625, -0.8271416 , -0.8029267 ],\n",
              "       [-1.07803625, -1.76209501, -1.51294133],\n",
              "       [ 0.92761259, -1.01413228, -0.35916756],\n",
              "       [-1.07803625, -0.8271416 , -0.8029267 ],\n",
              "       [ 0.92761259,  1.60373728,  1.77087633],\n",
              "       [ 0.92761259, -0.64015092,  0.55793467],\n",
              "       [ 0.92761259,  0.01431647,  1.2679493 ],\n",
              "       [-1.07803625,  0.66878386, -1.4241895 ],\n",
              "       [-1.07803625, -0.07917887,  0.20292736],\n",
              "       [ 0.92761259, -0.26616955, -0.68459093],\n",
              "       [ 0.92761259, -0.17267421, -0.47750333],\n",
              "       [ 0.92761259, -0.92063694, -0.77334276],\n",
              "       [-1.07803625, -0.35966489,  1.32711719],\n",
              "       [ 0.92761259, -0.54665557,  2.36255518],\n",
              "       [-1.07803625,  0.66878386, -1.12835007],\n",
              "       [-1.07803625, -0.17267421, -1.09876613],\n",
              "       [ 0.92761259, -1.10762762, -1.03959824],\n",
              "       [-1.07803625, -0.92063694,  1.56378873],\n",
              "       [ 0.92761259,  0.10781182,  0.0254237 ],\n",
              "       [-1.07803625,  0.48179318,  1.74129238],\n",
              "       [ 0.92761259, -0.64015092, -0.06332813],\n",
              "       [-1.07803625,  1.4167466 ,  0.05500764],\n",
              "       [ 0.92761259, -1.10762762,  0.41001496],\n",
              "       [ 0.92761259,  1.51024194,  1.00169381],\n",
              "       [ 0.92761259,  1.8842233 ,  0.73543833],\n",
              "       [-1.07803625,  0.2948025 , -0.53667121],\n",
              "       [ 0.92761259, -1.10762762, -1.6312771 ],\n",
              "       [-1.07803625, -0.26616955,  0.26209524],\n",
              "       [-1.07803625,  1.04276523, -1.24668584],\n",
              "       [ 0.92761259, -0.8271416 , -1.24668584],\n",
              "       [-1.07803625, -0.8271416 , -0.27041573],\n",
              "       [-1.07803625,  0.2948025 , -0.32958361],\n",
              "       [ 0.92761259, -0.92063694, -0.32958361],\n",
              "       [ 0.92761259, -0.8271416 , -0.68459093],\n",
              "       [ 0.92761259,  0.38829784,  0.26209524],\n",
              "       [ 0.92761259,  0.10781182,  1.8892121 ],\n",
              "       [ 0.92761259,  0.2948025 , -1.18751796],\n",
              "       [-1.07803625,  1.04276523,  0.52835073],\n",
              "       [ 0.92761259,  0.2948025 ,  0.05500764],\n",
              "       [-1.07803625, -0.45316023, -1.15793401],\n",
              "       [ 0.92761259, -0.26616955,  0.79460621],\n",
              "       [-1.07803625, -0.64015092,  0.17334342],\n",
              "       [ 0.92761259,  0.85577455, -0.5958391 ]])"
            ]
          },
          "metadata": {},
          "execution_count": 12
        }
      ]
    },
    {
      "cell_type": "markdown",
      "metadata": {
        "id": "BWpz-G_KgaB5"
      },
      "source": [
        "**Fitting K-NN to the Training set**"
      ]
    },
    {
      "cell_type": "code",
      "metadata": {
        "id": "5Wo68lCqfyc6",
        "colab": {
          "base_uri": "https://localhost:8080/"
        },
        "outputId": "0f4d70a1-d130-4746-966a-8694f7d11047"
      },
      "source": [
        "from sklearn.neighbors import KNeighborsClassifier\n",
        "from sklearn.model_selection import cross_val_score\n",
        "for i in [1,2,3,4,5,6,7,8,9,10,20,50]:\n",
        "  knn = KNeighborsClassifier(i) #initialising the model\n",
        "  knn.fit(X_train_scaled,y_train) # training the model\n",
        "  print(\"K value  : \" , i, \" train score : \", knn.score(X_train_scaled,y_train) , \" score : \", np.mean(cross_val_score(knn, X_train_scaled, y_train, cv=5)))"
      ],
      "execution_count": 16,
      "outputs": [
        {
          "output_type": "stream",
          "name": "stdout",
          "text": [
            "K value  :  1  train score :  0.996875  score :  0.878125\n",
            "K value  :  2  train score :  0.93125  score :  0.878125\n",
            "K value  :  3  train score :  0.940625  score :  0.903125\n",
            "K value  :  4  train score :  0.925  score :  0.90625\n",
            "K value  :  5  train score :  0.921875  score :  0.90625\n",
            "K value  :  6  train score :  0.91875  score :  0.90625\n",
            "K value  :  7  train score :  0.915625  score :  0.9125\n",
            "K value  :  8  train score :  0.921875  score :  0.90625\n",
            "K value  :  9  train score :  0.915625  score :  0.915625\n",
            "K value  :  10  train score :  0.91875  score :  0.915625\n",
            "K value  :  20  train score :  0.9125  score :  0.871875\n",
            "K value  :  50  train score :  0.809375  score :  0.765625\n"
          ]
        }
      ]
    },
    {
      "cell_type": "code",
      "source": [
        "knn = KNeighborsClassifier(5) # k - hyperparaqmeter\n",
        "knn.fit(X_train_scaled,y_train)\n",
        "knn.score(X_test_scaled,y_test) # score - Accuracy here.. of test score."
      ],
      "metadata": {
        "colab": {
          "base_uri": "https://localhost:8080/"
        },
        "id": "9foZzHZWP55J",
        "outputId": "6ec08c3e-ad8a-4567-a091-35209d91370c"
      },
      "execution_count": 17,
      "outputs": [
        {
          "output_type": "execute_result",
          "data": {
            "text/plain": [
              "0.9"
            ]
          },
          "metadata": {},
          "execution_count": 17
        }
      ]
    },
    {
      "cell_type": "markdown",
      "metadata": {
        "id": "GoGxoF-kgmlj"
      },
      "source": [
        "**Predicting the Test set results**"
      ]
    },
    {
      "cell_type": "code",
      "metadata": {
        "id": "aEOlRLkefye3",
        "colab": {
          "base_uri": "https://localhost:8080/"
        },
        "outputId": "fcd28095-f82e-435c-b011-76328987d56a"
      },
      "source": [
        "y_pred=knn.predict(X_test_scaled)\n",
        "y_pred"
      ],
      "execution_count": 18,
      "outputs": [
        {
          "output_type": "execute_result",
          "data": {
            "text/plain": [
              "array([0, 1, 1, 0, 0, 0, 1, 0, 1, 0, 0, 0, 1, 0, 0, 0, 0, 0, 1, 0, 0, 0,\n",
              "       0, 0, 1, 0, 0, 1, 0, 1, 1, 0, 1, 1, 0, 0, 1, 0, 1, 0, 1, 1, 1, 0,\n",
              "       1, 0, 0, 1, 0, 0, 0, 0, 0, 0, 1, 0, 0, 1, 0, 0, 0, 1, 1, 0, 0, 0,\n",
              "       1, 1, 0, 1, 0, 1, 0, 0, 0, 0, 0, 0, 0, 0])"
            ]
          },
          "metadata": {},
          "execution_count": 18
        }
      ]
    },
    {
      "cell_type": "markdown",
      "metadata": {
        "id": "cYfKp7MQgwX7"
      },
      "source": [
        "**Making the Confusion Matrix**"
      ]
    },
    {
      "cell_type": "code",
      "metadata": {
        "id": "zFhgq3Yufyh5",
        "colab": {
          "base_uri": "https://localhost:8080/"
        },
        "outputId": "9dbfb2fd-2517-4d5e-9ed5-bbc89c8bc030"
      },
      "source": [
        "from sklearn.metrics import plot_roc_curve, roc_curve, roc_auc_score, confusion_matrix, f1_score\n",
        "confusion_matrix(y_test,y_pred)"
      ],
      "execution_count": 20,
      "outputs": [
        {
          "output_type": "execute_result",
          "data": {
            "text/plain": [
              "array([[50,  5],\n",
              "       [ 3, 22]])"
            ]
          },
          "metadata": {},
          "execution_count": 20
        }
      ]
    },
    {
      "cell_type": "code",
      "metadata": {
        "id": "sp18d2Zhg4Me",
        "colab": {
          "base_uri": "https://localhost:8080/"
        },
        "outputId": "5704b15f-abc0-448b-a4f3-7432d8579df3"
      },
      "source": [
        "knn.score(X_test_scaled,y_pred)"
      ],
      "execution_count": 22,
      "outputs": [
        {
          "output_type": "execute_result",
          "data": {
            "text/plain": [
              "1.0"
            ]
          },
          "metadata": {},
          "execution_count": 22
        }
      ]
    },
    {
      "cell_type": "code",
      "source": [
        "plot_roc_curve(knn,X_test_scaled,y_test)"
      ],
      "metadata": {
        "colab": {
          "base_uri": "https://localhost:8080/",
          "height": 351
        },
        "id": "Df3SsssuRJaD",
        "outputId": "148b6d7c-16d1-471c-e1ad-ee215dff7132"
      },
      "execution_count": 23,
      "outputs": [
        {
          "output_type": "stream",
          "name": "stderr",
          "text": [
            "/usr/local/lib/python3.7/dist-packages/sklearn/utils/deprecation.py:87: FutureWarning: Function plot_roc_curve is deprecated; Function :func:`plot_roc_curve` is deprecated in 1.0 and will be removed in 1.2. Use one of the class methods: :meth:`sklearn.metric.RocCurveDisplay.from_predictions` or :meth:`sklearn.metric.RocCurveDisplay.from_estimator`.\n",
            "  warnings.warn(msg, category=FutureWarning)\n"
          ]
        },
        {
          "output_type": "execute_result",
          "data": {
            "text/plain": [
              "<sklearn.metrics._plot.roc_curve.RocCurveDisplay at 0x7fca7cc6c550>"
            ]
          },
          "metadata": {},
          "execution_count": 23
        },
        {
          "output_type": "display_data",
          "data": {
            "text/plain": [
              "<Figure size 432x288 with 1 Axes>"
            ],
            "image/png": "[encoded data removed]"
          },
          "metadata": {
            "needs_background": "light"
          }
        }
      ]
    },
    {
      "cell_type": "code",
      "source": [
        "f1_score(y_test,y_pred)"
      ],
      "metadata": {
        "colab": {
          "base_uri": "https://localhost:8080/"
        },
        "id": "UdoP_-Q4RRy0",
        "outputId": "220182ae-f3e7-45e6-c579-ae2bd5220804"
      },
      "execution_count": 24,
      "outputs": [
        {
          "output_type": "execute_result",
          "data": {
            "text/plain": [
              "0.8461538461538461"
            ]
          },
          "metadata": {},
          "execution_count": 24
        }
      ]
    }
  ]
}